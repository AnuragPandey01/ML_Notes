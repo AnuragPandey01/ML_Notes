{
 "cells": [
  {
   "cell_type": "markdown",
   "id": "35b5036c",
   "metadata": {
    "papermill": {
     "duration": 0.009042,
     "end_time": "2025-03-24T05:40:22.609377",
     "exception": false,
     "start_time": "2025-03-24T05:40:22.600335",
     "status": "completed"
    },
    "tags": []
   },
   "source": [
    "# Numpy Basics"
   ]
  },
  {
   "cell_type": "code",
   "execution_count": 1,
   "id": "32e41034",
   "metadata": {
    "execution": {
     "iopub.execute_input": "2025-03-24T05:40:22.628600Z",
     "iopub.status.busy": "2025-03-24T05:40:22.628119Z",
     "iopub.status.idle": "2025-03-24T05:40:22.633694Z",
     "shell.execute_reply": "2025-03-24T05:40:22.632789Z"
    },
    "papermill": {
     "duration": 0.017349,
     "end_time": "2025-03-24T05:40:22.635403",
     "exception": false,
     "start_time": "2025-03-24T05:40:22.618054",
     "status": "completed"
    },
    "tags": []
   },
   "outputs": [],
   "source": [
    "import numpy as np"
   ]
  },
  {
   "cell_type": "markdown",
   "id": "c279b7cf",
   "metadata": {
    "papermill": {
     "duration": 0.007722,
     "end_time": "2025-03-24T05:40:22.651653",
     "exception": false,
     "start_time": "2025-03-24T05:40:22.643931",
     "status": "completed"
    },
    "tags": []
   },
   "source": [
    "## numpy arrays"
   ]
  },
  {
   "cell_type": "code",
   "execution_count": 2,
   "id": "ec0184ba",
   "metadata": {
    "execution": {
     "iopub.execute_input": "2025-03-24T05:40:22.669215Z",
     "iopub.status.busy": "2025-03-24T05:40:22.668886Z",
     "iopub.status.idle": "2025-03-24T05:40:22.678201Z",
     "shell.execute_reply": "2025-03-24T05:40:22.677259Z"
    },
    "papermill": {
     "duration": 0.020055,
     "end_time": "2025-03-24T05:40:22.679716",
     "exception": false,
     "start_time": "2025-03-24T05:40:22.659661",
     "status": "completed"
    },
    "tags": []
   },
   "outputs": [
    {
     "name": "stdout",
     "output_type": "stream",
     "text": [
      "[1 2 3 4]\n",
      "shape is  (4,)\n"
     ]
    },
    {
     "data": {
      "text/plain": [
       "numpy.ndarray"
      ]
     },
     "execution_count": 2,
     "metadata": {},
     "output_type": "execute_result"
    }
   ],
   "source": [
    "np_array = np.array([1,2,3,4])\n",
    "print(np_array)\n",
    "print(\"shape is \",np_array.shape)\n",
    "type(np_array)"
   ]
  },
  {
   "cell_type": "code",
   "execution_count": 3,
   "id": "b258eb1b",
   "metadata": {
    "execution": {
     "iopub.execute_input": "2025-03-24T05:40:22.698602Z",
     "iopub.status.busy": "2025-03-24T05:40:22.698088Z",
     "iopub.status.idle": "2025-03-24T05:40:22.706566Z",
     "shell.execute_reply": "2025-03-24T05:40:22.705541Z"
    },
    "papermill": {
     "duration": 0.020164,
     "end_time": "2025-03-24T05:40:22.708435",
     "exception": false,
     "start_time": "2025-03-24T05:40:22.688271",
     "status": "completed"
    },
    "tags": []
   },
   "outputs": [
    {
     "name": "stdout",
     "output_type": "stream",
     "text": [
      "[[1. 2. 3. 4.]\n",
      " [7. 4. 8. 9.]]\n",
      "shape is  (2, 4)\n"
     ]
    },
    {
     "data": {
      "text/plain": [
       "numpy.ndarray"
      ]
     },
     "execution_count": 3,
     "metadata": {},
     "output_type": "execute_result"
    }
   ],
   "source": [
    "np_array = np.array([[1,2,3,4],[7,4,8,9]],dtype = float)\n",
    "print(np_array)\n",
    "print(\"shape is \",np_array.shape)\n",
    "type(np_array)"
   ]
  },
  {
   "cell_type": "markdown",
   "id": "b5eb94f5",
   "metadata": {
    "papermill": {
     "duration": 0.008697,
     "end_time": "2025-03-24T05:40:22.726131",
     "exception": false,
     "start_time": "2025-03-24T05:40:22.717434",
     "status": "completed"
    },
    "tags": []
   },
   "source": [
    "## array initialisers"
   ]
  },
  {
   "cell_type": "code",
   "execution_count": 4,
   "id": "2ac96d26",
   "metadata": {
    "execution": {
     "iopub.execute_input": "2025-03-24T05:40:22.744284Z",
     "iopub.status.busy": "2025-03-24T05:40:22.743945Z",
     "iopub.status.idle": "2025-03-24T05:40:22.749835Z",
     "shell.execute_reply": "2025-03-24T05:40:22.748909Z"
    },
    "papermill": {
     "duration": 0.016662,
     "end_time": "2025-03-24T05:40:22.751435",
     "exception": false,
     "start_time": "2025-03-24T05:40:22.734773",
     "status": "completed"
    },
    "tags": []
   },
   "outputs": [
    {
     "data": {
      "text/plain": [
       "array([[0., 0., 0., 0., 0.],\n",
       "       [0., 0., 0., 0., 0.],\n",
       "       [0., 0., 0., 0., 0.],\n",
       "       [0., 0., 0., 0., 0.]])"
      ]
     },
     "execution_count": 4,
     "metadata": {},
     "output_type": "execute_result"
    }
   ],
   "source": [
    "# create a array of zeros \n",
    "x = np.zeros((4,5)) \n",
    "x"
   ]
  },
  {
   "cell_type": "code",
   "execution_count": 5,
   "id": "a33e2c78",
   "metadata": {
    "execution": {
     "iopub.execute_input": "2025-03-24T05:40:22.769717Z",
     "iopub.status.busy": "2025-03-24T05:40:22.769384Z",
     "iopub.status.idle": "2025-03-24T05:40:22.776024Z",
     "shell.execute_reply": "2025-03-24T05:40:22.774761Z"
    },
    "papermill": {
     "duration": 0.018303,
     "end_time": "2025-03-24T05:40:22.778434",
     "exception": false,
     "start_time": "2025-03-24T05:40:22.760131",
     "status": "completed"
    },
    "tags": []
   },
   "outputs": [
    {
     "data": {
      "text/plain": [
       "array([[1., 1., 1., 1., 1.],\n",
       "       [1., 1., 1., 1., 1.],\n",
       "       [1., 1., 1., 1., 1.],\n",
       "       [1., 1., 1., 1., 1.]])"
      ]
     },
     "execution_count": 5,
     "metadata": {},
     "output_type": "execute_result"
    }
   ],
   "source": [
    "# create a array of ones\n",
    "y = np.ones((4,5))\n",
    "y"
   ]
  },
  {
   "cell_type": "code",
   "execution_count": 6,
   "id": "f4816794",
   "metadata": {
    "execution": {
     "iopub.execute_input": "2025-03-24T05:40:22.803405Z",
     "iopub.status.busy": "2025-03-24T05:40:22.802945Z",
     "iopub.status.idle": "2025-03-24T05:40:22.811867Z",
     "shell.execute_reply": "2025-03-24T05:40:22.810481Z"
    },
    "papermill": {
     "duration": 0.022872,
     "end_time": "2025-03-24T05:40:22.814461",
     "exception": false,
     "start_time": "2025-03-24T05:40:22.791589",
     "status": "completed"
    },
    "tags": []
   },
   "outputs": [
    {
     "data": {
      "text/plain": [
       "array([[4, 4, 4, 4, 4],\n",
       "       [4, 4, 4, 4, 4],\n",
       "       [4, 4, 4, 4, 4],\n",
       "       [4, 4, 4, 4, 4]])"
      ]
     },
     "execution_count": 6,
     "metadata": {},
     "output_type": "execute_result"
    }
   ],
   "source": [
    "# create a array with specific value\n",
    "z = np.full((4,5),4)\n",
    "z"
   ]
  },
  {
   "cell_type": "code",
   "execution_count": 7,
   "id": "f9e6a8b0",
   "metadata": {
    "execution": {
     "iopub.execute_input": "2025-03-24T05:40:22.837392Z",
     "iopub.status.busy": "2025-03-24T05:40:22.836923Z",
     "iopub.status.idle": "2025-03-24T05:40:22.845577Z",
     "shell.execute_reply": "2025-03-24T05:40:22.844361Z"
    },
    "papermill": {
     "duration": 0.022193,
     "end_time": "2025-03-24T05:40:22.847827",
     "exception": false,
     "start_time": "2025-03-24T05:40:22.825634",
     "status": "completed"
    },
    "tags": []
   },
   "outputs": [
    {
     "data": {
      "text/plain": [
       "array([[1., 0., 0., 0., 0.],\n",
       "       [0., 1., 0., 0., 0.],\n",
       "       [0., 0., 1., 0., 0.],\n",
       "       [0., 0., 0., 1., 0.],\n",
       "       [0., 0., 0., 0., 1.]])"
      ]
     },
     "execution_count": 7,
     "metadata": {},
     "output_type": "execute_result"
    }
   ],
   "source": [
    "# create a identity matrix\n",
    "a = np.eye(5)\n",
    "a"
   ]
  },
  {
   "cell_type": "code",
   "execution_count": 8,
   "id": "3daf0ed9",
   "metadata": {
    "execution": {
     "iopub.execute_input": "2025-03-24T05:40:22.872104Z",
     "iopub.status.busy": "2025-03-24T05:40:22.871636Z",
     "iopub.status.idle": "2025-03-24T05:40:22.879279Z",
     "shell.execute_reply": "2025-03-24T05:40:22.878270Z"
    },
    "papermill": {
     "duration": 0.024231,
     "end_time": "2025-03-24T05:40:22.881223",
     "exception": false,
     "start_time": "2025-03-24T05:40:22.856992",
     "status": "completed"
    },
    "tags": []
   },
   "outputs": [
    {
     "data": {
      "text/plain": [
       "array([[0.09757282, 0.40889038, 0.61399282, 0.42758924, 0.526702  ],\n",
       "       [0.13771457, 0.26800684, 0.90015108, 0.84418424, 0.441774  ],\n",
       "       [0.00261387, 0.63829691, 0.92567553, 0.20515415, 0.99927055]])"
      ]
     },
     "execution_count": 8,
     "metadata": {},
     "output_type": "execute_result"
    }
   ],
   "source": [
    "# create a np array with random values between 0 and 1\n",
    "b = np.random.random((3,5))\n",
    "b"
   ]
  },
  {
   "cell_type": "code",
   "execution_count": 9,
   "id": "35c734f6",
   "metadata": {
    "execution": {
     "iopub.execute_input": "2025-03-24T05:40:22.900904Z",
     "iopub.status.busy": "2025-03-24T05:40:22.900395Z",
     "iopub.status.idle": "2025-03-24T05:40:22.909528Z",
     "shell.execute_reply": "2025-03-24T05:40:22.908238Z"
    },
    "papermill": {
     "duration": 0.021011,
     "end_time": "2025-03-24T05:40:22.911419",
     "exception": false,
     "start_time": "2025-03-24T05:40:22.890408",
     "status": "completed"
    },
    "tags": []
   },
   "outputs": [
    {
     "data": {
      "text/plain": [
       "array([[91, 60, 62, 66],\n",
       "       [45, 69, 64, 75],\n",
       "       [58, 75, 37, 24]])"
      ]
     },
     "execution_count": 9,
     "metadata": {},
     "output_type": "execute_result"
    }
   ],
   "source": [
    "# create a np array with random int values\n",
    "c = np.random.randint(low=10,high=100,size=(3,4),)\n",
    "c"
   ]
  },
  {
   "cell_type": "code",
   "execution_count": 10,
   "id": "d47539dd",
   "metadata": {
    "execution": {
     "iopub.execute_input": "2025-03-24T05:40:22.931835Z",
     "iopub.status.busy": "2025-03-24T05:40:22.931352Z",
     "iopub.status.idle": "2025-03-24T05:40:22.938359Z",
     "shell.execute_reply": "2025-03-24T05:40:22.937255Z"
    },
    "papermill": {
     "duration": 0.018746,
     "end_time": "2025-03-24T05:40:22.940009",
     "exception": false,
     "start_time": "2025-03-24T05:40:22.921263",
     "status": "completed"
    },
    "tags": []
   },
   "outputs": [
    {
     "data": {
      "text/plain": [
       "array([10. , 12.5, 15. , 17.5, 20. ])"
      ]
     },
     "execution_count": 10,
     "metadata": {},
     "output_type": "execute_result"
    }
   ],
   "source": [
    "# array of evently spaced values --> specifying number of values required\n",
    "d = np.linspace(10,20,5)\n",
    "d"
   ]
  },
  {
   "cell_type": "code",
   "execution_count": 11,
   "id": "1f4aaed7",
   "metadata": {
    "execution": {
     "iopub.execute_input": "2025-03-24T05:40:22.959568Z",
     "iopub.status.busy": "2025-03-24T05:40:22.959252Z",
     "iopub.status.idle": "2025-03-24T05:40:22.965317Z",
     "shell.execute_reply": "2025-03-24T05:40:22.964277Z"
    },
    "papermill": {
     "duration": 0.017795,
     "end_time": "2025-03-24T05:40:22.967012",
     "exception": false,
     "start_time": "2025-03-24T05:40:22.949217",
     "status": "completed"
    },
    "tags": []
   },
   "outputs": [
    {
     "data": {
      "text/plain": [
       "array([10, 14, 18, 22, 26])"
      ]
     },
     "execution_count": 11,
     "metadata": {},
     "output_type": "execute_result"
    }
   ],
   "source": [
    "# array of evently spaced values --> specifying steps\n",
    "e = np.arange(10,30,4)\n",
    "e"
   ]
  },
  {
   "cell_type": "markdown",
   "id": "58264361",
   "metadata": {
    "papermill": {
     "duration": 0.008939,
     "end_time": "2025-03-24T05:40:22.985432",
     "exception": false,
     "start_time": "2025-03-24T05:40:22.976493",
     "status": "completed"
    },
    "tags": []
   },
   "source": [
    "## Analysing numpy array"
   ]
  },
  {
   "cell_type": "code",
   "execution_count": 12,
   "id": "983fa05c",
   "metadata": {
    "execution": {
     "iopub.execute_input": "2025-03-24T05:40:23.009657Z",
     "iopub.status.busy": "2025-03-24T05:40:23.009341Z",
     "iopub.status.idle": "2025-03-24T05:40:23.015539Z",
     "shell.execute_reply": "2025-03-24T05:40:23.014540Z"
    },
    "papermill": {
     "duration": 0.022626,
     "end_time": "2025-03-24T05:40:23.017278",
     "exception": false,
     "start_time": "2025-03-24T05:40:22.994652",
     "status": "completed"
    },
    "tags": []
   },
   "outputs": [
    {
     "data": {
      "text/plain": [
       "array([[24, 23, 12, 22],\n",
       "       [10, 18, 17, 13],\n",
       "       [15, 26, 10, 26]])"
      ]
     },
     "execution_count": 12,
     "metadata": {},
     "output_type": "execute_result"
    }
   ],
   "source": [
    "test = np.random.randint(10,30,(3,4))\n",
    "test"
   ]
  },
  {
   "cell_type": "code",
   "execution_count": 13,
   "id": "c2a21d0c",
   "metadata": {
    "execution": {
     "iopub.execute_input": "2025-03-24T05:40:23.039588Z",
     "iopub.status.busy": "2025-03-24T05:40:23.039123Z",
     "iopub.status.idle": "2025-03-24T05:40:23.045084Z",
     "shell.execute_reply": "2025-03-24T05:40:23.044061Z"
    },
    "papermill": {
     "duration": 0.019704,
     "end_time": "2025-03-24T05:40:23.047095",
     "exception": false,
     "start_time": "2025-03-24T05:40:23.027391",
     "status": "completed"
    },
    "tags": []
   },
   "outputs": [
    {
     "data": {
      "text/plain": [
       "(3, 4)"
      ]
     },
     "execution_count": 13,
     "metadata": {},
     "output_type": "execute_result"
    }
   ],
   "source": [
    "# array dimensions\n",
    "test.shape"
   ]
  },
  {
   "cell_type": "code",
   "execution_count": 14,
   "id": "9402aa16",
   "metadata": {
    "execution": {
     "iopub.execute_input": "2025-03-24T05:40:23.074050Z",
     "iopub.status.busy": "2025-03-24T05:40:23.073597Z",
     "iopub.status.idle": "2025-03-24T05:40:23.079538Z",
     "shell.execute_reply": "2025-03-24T05:40:23.078541Z"
    },
    "papermill": {
     "duration": 0.018361,
     "end_time": "2025-03-24T05:40:23.081422",
     "exception": false,
     "start_time": "2025-03-24T05:40:23.063061",
     "status": "completed"
    },
    "tags": []
   },
   "outputs": [
    {
     "data": {
      "text/plain": [
       "2"
      ]
     },
     "execution_count": 14,
     "metadata": {},
     "output_type": "execute_result"
    }
   ],
   "source": [
    "# num of dims\n",
    "test.ndim"
   ]
  },
  {
   "cell_type": "code",
   "execution_count": 15,
   "id": "8ab3fa31",
   "metadata": {
    "execution": {
     "iopub.execute_input": "2025-03-24T05:40:23.107679Z",
     "iopub.status.busy": "2025-03-24T05:40:23.107214Z",
     "iopub.status.idle": "2025-03-24T05:40:23.113649Z",
     "shell.execute_reply": "2025-03-24T05:40:23.112566Z"
    },
    "papermill": {
     "duration": 0.019043,
     "end_time": "2025-03-24T05:40:23.115383",
     "exception": false,
     "start_time": "2025-03-24T05:40:23.096340",
     "status": "completed"
    },
    "tags": []
   },
   "outputs": [
    {
     "data": {
      "text/plain": [
       "12"
      ]
     },
     "execution_count": 15,
     "metadata": {},
     "output_type": "execute_result"
    }
   ],
   "source": [
    "# num of elements\n",
    "test.size"
   ]
  },
  {
   "cell_type": "code",
   "execution_count": 16,
   "id": "3cb8f479",
   "metadata": {
    "execution": {
     "iopub.execute_input": "2025-03-24T05:40:23.137183Z",
     "iopub.status.busy": "2025-03-24T05:40:23.136773Z",
     "iopub.status.idle": "2025-03-24T05:40:23.142817Z",
     "shell.execute_reply": "2025-03-24T05:40:23.141816Z"
    },
    "papermill": {
     "duration": 0.019069,
     "end_time": "2025-03-24T05:40:23.144343",
     "exception": false,
     "start_time": "2025-03-24T05:40:23.125274",
     "status": "completed"
    },
    "tags": []
   },
   "outputs": [
    {
     "data": {
      "text/plain": [
       "dtype('int64')"
      ]
     },
     "execution_count": 16,
     "metadata": {},
     "output_type": "execute_result"
    }
   ],
   "source": [
    "# checking data type\n",
    "test.dtype"
   ]
  },
  {
   "cell_type": "markdown",
   "id": "a5103c09",
   "metadata": {
    "papermill": {
     "duration": 0.009375,
     "end_time": "2025-03-24T05:40:23.163761",
     "exception": false,
     "start_time": "2025-03-24T05:40:23.154386",
     "status": "completed"
    },
    "tags": []
   },
   "source": [
    "## Mathematical operations"
   ]
  },
  {
   "cell_type": "code",
   "execution_count": 17,
   "id": "f3cbe699",
   "metadata": {
    "execution": {
     "iopub.execute_input": "2025-03-24T05:40:23.184410Z",
     "iopub.status.busy": "2025-03-24T05:40:23.183976Z",
     "iopub.status.idle": "2025-03-24T05:40:23.191983Z",
     "shell.execute_reply": "2025-03-24T05:40:23.190991Z"
    },
    "papermill": {
     "duration": 0.020354,
     "end_time": "2025-03-24T05:40:23.193837",
     "exception": false,
     "start_time": "2025-03-24T05:40:23.173483",
     "status": "completed"
    },
    "tags": []
   },
   "outputs": [
    {
     "data": {
      "text/plain": [
       "(array([[ 3,  4,  8],\n",
       "        [ 3,  3,  6],\n",
       "        [ 5,  4, 10]]),\n",
       " array([[ 2,  2,  3],\n",
       "        [ 4,  2,  9],\n",
       "        [ 3,  1, 10]]))"
      ]
     },
     "execution_count": 17,
     "metadata": {},
     "output_type": "execute_result"
    }
   ],
   "source": [
    "arr1 = np.random.randint(1,12,size=(3,3))\n",
    "arr2 = np.random.randint(1,12,size=(3,3))\n",
    "arr1,arr2"
   ]
  },
  {
   "cell_type": "code",
   "execution_count": 18,
   "id": "3870679a",
   "metadata": {
    "execution": {
     "iopub.execute_input": "2025-03-24T05:40:23.221762Z",
     "iopub.status.busy": "2025-03-24T05:40:23.221306Z",
     "iopub.status.idle": "2025-03-24T05:40:23.230624Z",
     "shell.execute_reply": "2025-03-24T05:40:23.229624Z"
    },
    "papermill": {
     "duration": 0.022087,
     "end_time": "2025-03-24T05:40:23.232494",
     "exception": false,
     "start_time": "2025-03-24T05:40:23.210407",
     "status": "completed"
    },
    "tags": []
   },
   "outputs": [
    {
     "name": "stdout",
     "output_type": "stream",
     "text": [
      "[[ 5  6 11]\n",
      " [ 7  5 15]\n",
      " [ 8  5 20]]\n",
      "[[0 0 0]\n",
      " [0 0 0]\n",
      " [0 0 0]]\n",
      "[[  9  16  64]\n",
      " [  9   9  36]\n",
      " [ 25  16 100]]\n",
      "[[1.5        2.         2.66666667]\n",
      " [0.75       1.5        0.66666667]\n",
      " [1.66666667 4.         1.        ]]\n"
     ]
    },
    {
     "data": {
      "text/plain": [
       "array([[ 46,  22, 125],\n",
       "       [ 36,  18,  96],\n",
       "       [ 56,  28, 151]])"
      ]
     },
     "execution_count": 18,
     "metadata": {},
     "output_type": "execute_result"
    }
   ],
   "source": [
    "print(arr1+arr2) # elementwise addition\n",
    "print(arr2-arr2) # elementwise subraction\n",
    "print(arr1*arr1) # elementwise multiplication\n",
    "print(arr1/arr2) # elementwise division\n",
    "arr1 @ arr2 # alternative using symbol\n"
   ]
  },
  {
   "cell_type": "code",
   "execution_count": 19,
   "id": "22951da2",
   "metadata": {
    "execution": {
     "iopub.execute_input": "2025-03-24T05:40:23.259303Z",
     "iopub.status.busy": "2025-03-24T05:40:23.258987Z",
     "iopub.status.idle": "2025-03-24T05:40:23.266647Z",
     "shell.execute_reply": "2025-03-24T05:40:23.265366Z"
    },
    "papermill": {
     "duration": 0.020503,
     "end_time": "2025-03-24T05:40:23.268601",
     "exception": false,
     "start_time": "2025-03-24T05:40:23.248098",
     "status": "completed"
    },
    "tags": []
   },
   "outputs": [
    {
     "name": "stdout",
     "output_type": "stream",
     "text": [
      "[[ 5  6 11]\n",
      " [ 7  5 15]\n",
      " [ 8  5 20]]\n",
      "[[ 1  2  5]\n",
      " [-1  1 -3]\n",
      " [ 2  3  0]]\n",
      "[[  6   8  24]\n",
      " [ 12   6  54]\n",
      " [ 15   4 100]]\n",
      "[[1.5        2.         2.66666667]\n",
      " [0.75       1.5        0.66666667]\n",
      " [1.66666667 4.         1.        ]]\n",
      "[[ 46  22 125]\n",
      " [ 36  18  96]\n",
      " [ 56  28 151]]\n"
     ]
    }
   ],
   "source": [
    "# alternative method\n",
    "print(np.add(arr1,arr2));\n",
    "print(np.subtract(arr1,arr2));\n",
    "print(np.multiply(arr1,arr2));\n",
    "print(np.divide(arr1,arr2));\n",
    "print(np.matmul(arr1,arr2)) # matrix multiplication"
   ]
  },
  {
   "cell_type": "code",
   "execution_count": 20,
   "id": "740541c6",
   "metadata": {
    "execution": {
     "iopub.execute_input": "2025-03-24T05:40:23.290303Z",
     "iopub.status.busy": "2025-03-24T05:40:23.289944Z",
     "iopub.status.idle": "2025-03-24T05:40:23.295943Z",
     "shell.execute_reply": "2025-03-24T05:40:23.294871Z"
    },
    "papermill": {
     "duration": 0.018761,
     "end_time": "2025-03-24T05:40:23.297638",
     "exception": false,
     "start_time": "2025-03-24T05:40:23.278877",
     "status": "completed"
    },
    "tags": []
   },
   "outputs": [
    {
     "data": {
      "text/plain": [
       "array([[ 3,  3,  5],\n",
       "       [ 4,  3,  4],\n",
       "       [ 8,  6, 10]])"
      ]
     },
     "execution_count": 20,
     "metadata": {},
     "output_type": "execute_result"
    }
   ],
   "source": [
    "# Transpose\n",
    "arr1.T\n"
   ]
  },
  {
   "cell_type": "markdown",
   "id": "a6bbcd15",
   "metadata": {
    "papermill": {
     "duration": 0.013872,
     "end_time": "2025-03-24T05:40:23.323816",
     "exception": false,
     "start_time": "2025-03-24T05:40:23.309944",
     "status": "completed"
    },
    "tags": []
   },
   "source": [
    "## Reshaping"
   ]
  },
  {
   "cell_type": "code",
   "execution_count": 21,
   "id": "0b6a8177",
   "metadata": {
    "execution": {
     "iopub.execute_input": "2025-03-24T05:40:23.355613Z",
     "iopub.status.busy": "2025-03-24T05:40:23.355268Z",
     "iopub.status.idle": "2025-03-24T05:40:23.361243Z",
     "shell.execute_reply": "2025-03-24T05:40:23.360215Z"
    },
    "papermill": {
     "duration": 0.02616,
     "end_time": "2025-03-24T05:40:23.363027",
     "exception": false,
     "start_time": "2025-03-24T05:40:23.336867",
     "status": "completed"
    },
    "tags": []
   },
   "outputs": [
    {
     "data": {
      "text/plain": [
       "array([ 0,  1,  2,  3,  4,  5,  6,  7,  8,  9, 10, 11])"
      ]
     },
     "execution_count": 21,
     "metadata": {},
     "output_type": "execute_result"
    }
   ],
   "source": [
    "arr = np.arange(12) \n",
    "arr"
   ]
  },
  {
   "cell_type": "code",
   "execution_count": 22,
   "id": "409fcda0",
   "metadata": {
    "execution": {
     "iopub.execute_input": "2025-03-24T05:40:23.385494Z",
     "iopub.status.busy": "2025-03-24T05:40:23.385125Z",
     "iopub.status.idle": "2025-03-24T05:40:23.391437Z",
     "shell.execute_reply": "2025-03-24T05:40:23.390450Z"
    },
    "papermill": {
     "duration": 0.019544,
     "end_time": "2025-03-24T05:40:23.393057",
     "exception": false,
     "start_time": "2025-03-24T05:40:23.373513",
     "status": "completed"
    },
    "tags": []
   },
   "outputs": [
    {
     "data": {
      "text/plain": [
       "array([[[ 0,  1],\n",
       "        [ 2,  3]],\n",
       "\n",
       "       [[ 4,  5],\n",
       "        [ 6,  7]],\n",
       "\n",
       "       [[ 8,  9],\n",
       "        [10, 11]]])"
      ]
     },
     "execution_count": 22,
     "metadata": {},
     "output_type": "execute_result"
    }
   ],
   "source": [
    "# changing shape\n",
    "arr = arr.reshape((3,2,2))\n",
    "arr"
   ]
  },
  {
   "cell_type": "code",
   "execution_count": 23,
   "id": "2f003518",
   "metadata": {
    "execution": {
     "iopub.execute_input": "2025-03-24T05:40:23.415330Z",
     "iopub.status.busy": "2025-03-24T05:40:23.415013Z",
     "iopub.status.idle": "2025-03-24T05:40:23.420955Z",
     "shell.execute_reply": "2025-03-24T05:40:23.419866Z"
    },
    "papermill": {
     "duration": 0.018829,
     "end_time": "2025-03-24T05:40:23.422693",
     "exception": false,
     "start_time": "2025-03-24T05:40:23.403864",
     "status": "completed"
    },
    "tags": []
   },
   "outputs": [
    {
     "data": {
      "text/plain": [
       "array([ 0,  1,  2,  3,  4,  5,  6,  7,  8,  9, 10, 11])"
      ]
     },
     "execution_count": 23,
     "metadata": {},
     "output_type": "execute_result"
    }
   ],
   "source": [
    "# flattening numpy array\n",
    "arr.flatten()"
   ]
  },
  {
   "cell_type": "code",
   "execution_count": 24,
   "id": "e91e6f3f",
   "metadata": {
    "execution": {
     "iopub.execute_input": "2025-03-24T05:40:23.445481Z",
     "iopub.status.busy": "2025-03-24T05:40:23.445122Z",
     "iopub.status.idle": "2025-03-24T05:40:23.451099Z",
     "shell.execute_reply": "2025-03-24T05:40:23.449964Z"
    },
    "papermill": {
     "duration": 0.01953,
     "end_time": "2025-03-24T05:40:23.452824",
     "exception": false,
     "start_time": "2025-03-24T05:40:23.433294",
     "status": "completed"
    },
    "tags": []
   },
   "outputs": [
    {
     "data": {
      "text/plain": [
       "array([ 0,  1,  2,  3,  4,  5,  6,  7,  8,  9, 10, 11])"
      ]
     },
     "execution_count": 24,
     "metadata": {},
     "output_type": "execute_result"
    }
   ],
   "source": [
    "# ravel (return view instead of copy i.e modification will modify original)\n",
    "arr.ravel()"
   ]
  },
  {
   "cell_type": "markdown",
   "id": "af9df598",
   "metadata": {
    "execution": {
     "iopub.execute_input": "2025-03-23T15:36:04.322657Z",
     "iopub.status.busy": "2025-03-23T15:36:04.322261Z",
     "iopub.status.idle": "2025-03-23T15:36:04.328863Z",
     "shell.execute_reply": "2025-03-23T15:36:04.327388Z",
     "shell.execute_reply.started": "2025-03-23T15:36:04.322628Z"
    },
    "papermill": {
     "duration": 0.010026,
     "end_time": "2025-03-24T05:40:23.473512",
     "exception": false,
     "start_time": "2025-03-24T05:40:23.463486",
     "status": "completed"
    },
    "tags": []
   },
   "source": [
    "## Slicing and Indexing"
   ]
  },
  {
   "cell_type": "markdown",
   "id": "86e1523e",
   "metadata": {
    "papermill": {
     "duration": 0.010016,
     "end_time": "2025-03-24T05:40:23.494024",
     "exception": false,
     "start_time": "2025-03-24T05:40:23.484008",
     "status": "completed"
    },
    "tags": []
   },
   "source": [
    "### 1D array indexing and slicing "
   ]
  },
  {
   "cell_type": "code",
   "execution_count": 25,
   "id": "67ec5db7",
   "metadata": {
    "execution": {
     "iopub.execute_input": "2025-03-24T05:40:23.516627Z",
     "iopub.status.busy": "2025-03-24T05:40:23.516310Z",
     "iopub.status.idle": "2025-03-24T05:40:23.522639Z",
     "shell.execute_reply": "2025-03-24T05:40:23.521578Z"
    },
    "papermill": {
     "duration": 0.020087,
     "end_time": "2025-03-24T05:40:23.524636",
     "exception": false,
     "start_time": "2025-03-24T05:40:23.504549",
     "status": "completed"
    },
    "tags": []
   },
   "outputs": [
    {
     "data": {
      "text/plain": [
       "array([1, 3, 5])"
      ]
     },
     "execution_count": 25,
     "metadata": {},
     "output_type": "execute_result"
    }
   ],
   "source": [
    "arr = np.array([1,2,3,4,5,6])\n",
    "arr[0::2] #[start=0 : stop=arr.size : step=1]"
   ]
  },
  {
   "cell_type": "markdown",
   "id": "f7f2cf8e",
   "metadata": {
    "papermill": {
     "duration": 0.01071,
     "end_time": "2025-03-24T05:40:23.546168",
     "exception": false,
     "start_time": "2025-03-24T05:40:23.535458",
     "status": "completed"
    },
    "tags": []
   },
   "source": [
    "### multi-dimensional array indexing slicing "
   ]
  },
  {
   "cell_type": "code",
   "execution_count": 26,
   "id": "34a88ed9",
   "metadata": {
    "execution": {
     "iopub.execute_input": "2025-03-24T05:40:23.568404Z",
     "iopub.status.busy": "2025-03-24T05:40:23.568097Z",
     "iopub.status.idle": "2025-03-24T05:40:23.574121Z",
     "shell.execute_reply": "2025-03-24T05:40:23.573114Z"
    },
    "papermill": {
     "duration": 0.019074,
     "end_time": "2025-03-24T05:40:23.575728",
     "exception": false,
     "start_time": "2025-03-24T05:40:23.556654",
     "status": "completed"
    },
    "tags": []
   },
   "outputs": [
    {
     "data": {
      "text/plain": [
       "array([[ 8,  0],\n",
       "       [11,  0],\n",
       "       [11,  3]])"
      ]
     },
     "execution_count": 26,
     "metadata": {},
     "output_type": "execute_result"
    }
   ],
   "source": [
    "arr_2d = np.random.randint(20,size=(3,2))\n",
    "arr_2d"
   ]
  },
  {
   "cell_type": "code",
   "execution_count": 27,
   "id": "dd22e2e5",
   "metadata": {
    "execution": {
     "iopub.execute_input": "2025-03-24T05:40:23.599365Z",
     "iopub.status.busy": "2025-03-24T05:40:23.598941Z",
     "iopub.status.idle": "2025-03-24T05:40:23.606392Z",
     "shell.execute_reply": "2025-03-24T05:40:23.604681Z"
    },
    "papermill": {
     "duration": 0.021563,
     "end_time": "2025-03-24T05:40:23.608828",
     "exception": false,
     "start_time": "2025-03-24T05:40:23.587265",
     "status": "completed"
    },
    "tags": []
   },
   "outputs": [
    {
     "name": "stdout",
     "output_type": "stream",
     "text": [
      "0\n",
      "0\n"
     ]
    }
   ],
   "source": [
    "# selecting specific element\n",
    "print(arr_2d[0][1])\n",
    "# or\n",
    "print(arr_2d[0,1])"
   ]
  },
  {
   "cell_type": "code",
   "execution_count": 28,
   "id": "bb8d336e",
   "metadata": {
    "execution": {
     "iopub.execute_input": "2025-03-24T05:40:23.641933Z",
     "iopub.status.busy": "2025-03-24T05:40:23.641550Z",
     "iopub.status.idle": "2025-03-24T05:40:23.647816Z",
     "shell.execute_reply": "2025-03-24T05:40:23.646668Z"
    },
    "papermill": {
     "duration": 0.019693,
     "end_time": "2025-03-24T05:40:23.649413",
     "exception": false,
     "start_time": "2025-03-24T05:40:23.629720",
     "status": "completed"
    },
    "tags": []
   },
   "outputs": [
    {
     "data": {
      "text/plain": [
       "array([11,  3])"
      ]
     },
     "execution_count": 28,
     "metadata": {},
     "output_type": "execute_result"
    }
   ],
   "source": [
    "# select row\n",
    "arr_2d[2] #selects 3rd col ot index 2"
   ]
  },
  {
   "cell_type": "code",
   "execution_count": 29,
   "id": "32b8832e",
   "metadata": {
    "execution": {
     "iopub.execute_input": "2025-03-24T05:40:23.672681Z",
     "iopub.status.busy": "2025-03-24T05:40:23.672377Z",
     "iopub.status.idle": "2025-03-24T05:40:23.677971Z",
     "shell.execute_reply": "2025-03-24T05:40:23.676954Z"
    },
    "papermill": {
     "duration": 0.018917,
     "end_time": "2025-03-24T05:40:23.679825",
     "exception": false,
     "start_time": "2025-03-24T05:40:23.660908",
     "status": "completed"
    },
    "tags": []
   },
   "outputs": [
    {
     "data": {
      "text/plain": [
       "array([0, 0, 3])"
      ]
     },
     "execution_count": 29,
     "metadata": {},
     "output_type": "execute_result"
    }
   ],
   "source": [
    "# selcting other than row\n",
    "arr_2d[:,1] # select 2nd col or index 1"
   ]
  },
  {
   "cell_type": "markdown",
   "id": "847f7277",
   "metadata": {
    "papermill": {
     "duration": 0.010433,
     "end_time": "2025-03-24T05:40:23.707572",
     "exception": false,
     "start_time": "2025-03-24T05:40:23.697139",
     "status": "completed"
    },
    "tags": []
   },
   "source": [
    "## Sorting"
   ]
  },
  {
   "cell_type": "code",
   "execution_count": 30,
   "id": "0ba2cf7b",
   "metadata": {
    "execution": {
     "iopub.execute_input": "2025-03-24T05:40:23.730293Z",
     "iopub.status.busy": "2025-03-24T05:40:23.729975Z",
     "iopub.status.idle": "2025-03-24T05:40:23.737681Z",
     "shell.execute_reply": "2025-03-24T05:40:23.736638Z"
    },
    "papermill": {
     "duration": 0.021381,
     "end_time": "2025-03-24T05:40:23.739641",
     "exception": false,
     "start_time": "2025-03-24T05:40:23.718260",
     "status": "completed"
    },
    "tags": []
   },
   "outputs": [
    {
     "name": "stdout",
     "output_type": "stream",
     "text": [
      "Sorted Array [1 1 2 3 4 5 6 9]\n",
      "Sorted 2D array by column [[1 1]\n",
      " [2 2]\n",
      " [3 3]]\n"
     ]
    }
   ],
   "source": [
    "unsorted = np.array([3, 1, 4, 1, 5, 9, 2, 6])\n",
    "print(\"Sorted Array\", np.sort(unsorted))\n",
    "\n",
    "arr_2d_unsorted = np.array([[3, 1], [1, 2], [2, 3]])\n",
    "print(\"Sorted 2D array by column\", np.sort(arr_2d_unsorted, axis=0))"
   ]
  },
  {
   "cell_type": "markdown",
   "id": "bab5086a",
   "metadata": {
    "papermill": {
     "duration": 0.010321,
     "end_time": "2025-03-24T05:40:23.766469",
     "exception": false,
     "start_time": "2025-03-24T05:40:23.756148",
     "status": "completed"
    },
    "tags": []
   },
   "source": [
    "## Filter"
   ]
  },
  {
   "cell_type": "code",
   "execution_count": 31,
   "id": "91e6cc8f",
   "metadata": {
    "execution": {
     "iopub.execute_input": "2025-03-24T05:40:23.789012Z",
     "iopub.status.busy": "2025-03-24T05:40:23.788649Z",
     "iopub.status.idle": "2025-03-24T05:40:23.794700Z",
     "shell.execute_reply": "2025-03-24T05:40:23.793624Z"
    },
    "papermill": {
     "duration": 0.019288,
     "end_time": "2025-03-24T05:40:23.796368",
     "exception": false,
     "start_time": "2025-03-24T05:40:23.777080",
     "status": "completed"
    },
    "tags": []
   },
   "outputs": [
    {
     "data": {
      "text/plain": [
       "array([[17, 16, 19],\n",
       "       [15, 10, 14]])"
      ]
     },
     "execution_count": 31,
     "metadata": {},
     "output_type": "execute_result"
    }
   ],
   "source": [
    "nums = np.random.randint(10,20,(2,3))\n",
    "nums"
   ]
  },
  {
   "cell_type": "code",
   "execution_count": 32,
   "id": "153a3606",
   "metadata": {
    "execution": {
     "iopub.execute_input": "2025-03-24T05:40:23.820023Z",
     "iopub.status.busy": "2025-03-24T05:40:23.819522Z",
     "iopub.status.idle": "2025-03-24T05:40:23.827153Z",
     "shell.execute_reply": "2025-03-24T05:40:23.826059Z"
    },
    "papermill": {
     "duration": 0.021039,
     "end_time": "2025-03-24T05:40:23.828771",
     "exception": false,
     "start_time": "2025-03-24T05:40:23.807732",
     "status": "completed"
    },
    "tags": []
   },
   "outputs": [
    {
     "data": {
      "text/plain": [
       "array([16, 10, 14])"
      ]
     },
     "execution_count": 32,
     "metadata": {},
     "output_type": "execute_result"
    }
   ],
   "source": [
    "nums[nums%2 == 0] # returns flattened array with values satisfying the condition"
   ]
  },
  {
   "cell_type": "markdown",
   "id": "4de5cce7",
   "metadata": {
    "execution": {
     "iopub.execute_input": "2025-03-23T18:15:03.222666Z",
     "iopub.status.busy": "2025-03-23T18:15:03.222231Z",
     "iopub.status.idle": "2025-03-23T18:15:03.231582Z",
     "shell.execute_reply": "2025-03-23T18:15:03.230209Z",
     "shell.execute_reply.started": "2025-03-23T18:15:03.222636Z"
    },
    "papermill": {
     "duration": 0.010797,
     "end_time": "2025-03-24T05:40:23.851078",
     "exception": false,
     "start_time": "2025-03-24T05:40:23.840281",
     "status": "completed"
    },
    "tags": []
   },
   "source": [
    "## Filter with mask"
   ]
  },
  {
   "cell_type": "code",
   "execution_count": 33,
   "id": "48a48da8",
   "metadata": {
    "execution": {
     "iopub.execute_input": "2025-03-24T05:40:23.874795Z",
     "iopub.status.busy": "2025-03-24T05:40:23.874334Z",
     "iopub.status.idle": "2025-03-24T05:40:23.881185Z",
     "shell.execute_reply": "2025-03-24T05:40:23.880125Z"
    },
    "papermill": {
     "duration": 0.020855,
     "end_time": "2025-03-24T05:40:23.883097",
     "exception": false,
     "start_time": "2025-03-24T05:40:23.862242",
     "status": "completed"
    },
    "tags": []
   },
   "outputs": [
    {
     "data": {
      "text/plain": [
       "array([16, 10, 14])"
      ]
     },
     "execution_count": 33,
     "metadata": {},
     "output_type": "execute_result"
    }
   ],
   "source": [
    "mask = nums%2==0\n",
    "nums[mask]"
   ]
  },
  {
   "cell_type": "markdown",
   "id": "02e8cb74",
   "metadata": {
    "execution": {
     "iopub.execute_input": "2025-03-23T18:19:33.298083Z",
     "iopub.status.busy": "2025-03-23T18:19:33.297628Z",
     "iopub.status.idle": "2025-03-23T18:19:33.302726Z",
     "shell.execute_reply": "2025-03-23T18:19:33.301365Z",
     "shell.execute_reply.started": "2025-03-23T18:19:33.298049Z"
    },
    "papermill": {
     "duration": 0.010777,
     "end_time": "2025-03-24T05:40:23.905488",
     "exception": false,
     "start_time": "2025-03-24T05:40:23.894711",
     "status": "completed"
    },
    "tags": []
   },
   "source": [
    "## np.where()"
   ]
  },
  {
   "cell_type": "code",
   "execution_count": 34,
   "id": "754d9602",
   "metadata": {
    "execution": {
     "iopub.execute_input": "2025-03-24T05:40:23.928642Z",
     "iopub.status.busy": "2025-03-24T05:40:23.928278Z",
     "iopub.status.idle": "2025-03-24T05:40:23.935606Z",
     "shell.execute_reply": "2025-03-24T05:40:23.934644Z"
    },
    "papermill": {
     "duration": 0.021163,
     "end_time": "2025-03-24T05:40:23.937645",
     "exception": false,
     "start_time": "2025-03-24T05:40:23.916482",
     "status": "completed"
    },
    "tags": []
   },
   "outputs": [
    {
     "data": {
      "text/plain": [
       "(array([0, 1, 1]), array([1, 1, 2]))"
      ]
     },
     "execution_count": 34,
     "metadata": {},
     "output_type": "execute_result"
    }
   ],
   "source": [
    "np.where(nums%2 == 0)"
   ]
  },
  {
   "cell_type": "code",
   "execution_count": null,
   "id": "1f8a8613",
   "metadata": {
    "papermill": {
     "duration": 0.011305,
     "end_time": "2025-03-24T05:40:23.965934",
     "exception": false,
     "start_time": "2025-03-24T05:40:23.954629",
     "status": "completed"
    },
    "tags": []
   },
   "outputs": [],
   "source": []
  }
 ],
 "metadata": {
  "kaggle": {
   "accelerator": "none",
   "dataSources": [],
   "dockerImageVersionId": 30918,
   "isGpuEnabled": false,
   "isInternetEnabled": true,
   "language": "python",
   "sourceType": "notebook"
  },
  "kernelspec": {
   "display_name": "Python 3",
   "language": "python",
   "name": "python3"
  },
  "language_info": {
   "codemirror_mode": {
    "name": "ipython",
    "version": 3
   },
   "file_extension": ".py",
   "mimetype": "text/x-python",
   "name": "python",
   "nbconvert_exporter": "python",
   "pygments_lexer": "ipython3",
   "version": "3.10.12"
  },
  "papermill": {
   "default_parameters": {},
   "duration": 4.718878,
   "end_time": "2025-03-24T05:40:24.497594",
   "environment_variables": {},
   "exception": null,
   "input_path": "__notebook__.ipynb",
   "output_path": "__notebook__.ipynb",
   "parameters": {},
   "start_time": "2025-03-24T05:40:19.778716",
   "version": "2.6.0"
  }
 },
 "nbformat": 4,
 "nbformat_minor": 5
}
